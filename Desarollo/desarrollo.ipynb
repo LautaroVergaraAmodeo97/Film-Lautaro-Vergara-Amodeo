{
 "cells": [
  {
   "cell_type": "markdown",
   "metadata": {},
   "source": [
    "## Desarrollo de API\n"
   ]
  },
  {
   "cell_type": "markdown",
   "metadata": {},
   "source": [
    "En este archivos vamos a desarrollar nuestras funciones que luego las implementaremos en nuestro main.py "
   ]
  },
  {
   "cell_type": "code",
   "execution_count": 1,
   "metadata": {},
   "outputs": [
    {
     "name": "stdout",
     "output_type": "stream",
     "text": [
      "<class 'pandas.core.frame.DataFrame'>\n",
      "Index: 45452 entries, 0 to 45535\n",
      "Data columns (total 21 columns):\n",
      " #   Column             Non-Null Count  Dtype         \n",
      "---  ------             --------------  -----         \n",
      " 0   budget             45452 non-null  float64       \n",
      " 1   id                 45452 non-null  int64         \n",
      " 2   original_language  45441 non-null  object        \n",
      " 3   overview           44511 non-null  object        \n",
      " 4   popularity         45452 non-null  float64       \n",
      " 5   release_date       45452 non-null  datetime64[ns]\n",
      " 6   revenue            45452 non-null  float64       \n",
      " 7   runtime            45206 non-null  float64       \n",
      " 8   title              45452 non-null  object        \n",
      " 9   vote_average       45452 non-null  float64       \n",
      " 10  vote_count         45452 non-null  float64       \n",
      " 11  return             45452 non-null  float64       \n",
      " 12  release_year       45452 non-null  int64         \n",
      " 13  release_month      45452 non-null  float64       \n",
      " 14  month_name_es      45452 non-null  object        \n",
      " 15  genre_id           45452 non-null  object        \n",
      " 16  genre_name         45452 non-null  object        \n",
      " 17  company_names      45452 non-null  object        \n",
      " 18  cast_names         45451 non-null  object        \n",
      " 19  crew_names         45451 non-null  object        \n",
      " 20  crew_jobs          45451 non-null  object        \n",
      "dtypes: datetime64[ns](1), float64(8), int64(2), object(10)\n",
      "memory usage: 7.6+ MB\n"
     ]
    }
   ],
   "source": [
    "import pandas as pd\n",
    "\n",
    "data = pd.read_parquet('C:\\\\Users\\\\User\\\\OneDrive\\\\Escritorio\\\\Proyecto 3.0\\\\data.parquet')\n",
    "\n",
    "data.info()"
   ]
  },
  {
   "cell_type": "code",
   "execution_count": 2,
   "metadata": {},
   "outputs": [
    {
     "data": {
      "text/plain": [
       "0        [John Lasseter, Joss Whedon, Andrew Stanton, J...\n",
       "1        [Larry J. Franco, Jonathan Hensleigh, James Ho...\n",
       "2        [Howard Deutch, Mark Steven Johnson, Mark Stev...\n",
       "3        [Forest Whitaker, Ronald Bass, Ronald Bass, Ez...\n",
       "4        [Alan Silvestri, Elliot Davis, Nancy Meyers, N...\n",
       "                               ...                        \n",
       "45530    [John Irvin, Sam Resnick, John McGrath, Sam Re...\n",
       "45532    [Lav Diaz, Lav Diaz, Dante Perez, Lav Diaz, La...\n",
       "45533    [Mark L. Lester, C. Courtney Joyner, Jeffrey G...\n",
       "45534              [Yakov Protazanov, Joseph N. Ermolieff]\n",
       "45535                                      [Daisy Asquith]\n",
       "Name: crew_names, Length: 45452, dtype: object"
      ]
     },
     "execution_count": 2,
     "metadata": {},
     "output_type": "execute_result"
    }
   ],
   "source": [
    "data['crew_names']"
   ]
  },
  {
   "cell_type": "code",
   "execution_count": 3,
   "metadata": {},
   "outputs": [
    {
     "data": {
      "text/plain": [
       "0        [Director, Screenplay, Screenplay, Screenplay,...\n",
       "1        [Executive Producer, Screenplay, Original Musi...\n",
       "2          [Director, Characters, Writer, Sound Recordist]\n",
       "3        [Director, Screenplay, Producer, Producer, Pro...\n",
       "4        [Original Music Composer, Director of Photogra...\n",
       "                               ...                        \n",
       "45530    [Director, Writer, Writer, Story, Producer, Mu...\n",
       "45532    [Director, Writer, Production Design, Music, E...\n",
       "45533    [Director, Screenplay, Screenplay, Original Mu...\n",
       "45534                                 [Director, Producer]\n",
       "45535                                           [Director]\n",
       "Name: crew_jobs, Length: 45452, dtype: object"
      ]
     },
     "execution_count": 3,
     "metadata": {},
     "output_type": "execute_result"
    }
   ],
   "source": [
    "data['crew_jobs']"
   ]
  },
  {
   "cell_type": "markdown",
   "metadata": {},
   "source": [
    "def cantidad_filmaciones_mes( Mes ): Se ingresa un mes en idioma Español. Debe devolver la cantidad de películas que fueron estrenadas en el mes consultado en la totalidad del dataset.\n",
    "                    Ejemplo de retorno: X cantidad de películas fueron estrenadas en el mes de X"
   ]
  },
  {
   "cell_type": "code",
   "execution_count": 4,
   "metadata": {},
   "outputs": [
    {
     "name": "stdout",
     "output_type": "stream",
     "text": [
      "La cantidad de películas que se han realizado en el mes que ha seleccionado\n",
      "3344\n"
     ]
    }
   ],
   "source": [
    "def cantidad_filmaciones_mes(mes:str):\n",
    "    \n",
    "    # Uso el método capitalize() para devolver una copia de la cadena con la primera letra en mayúsculas\n",
    "    mes_capitalizado = mes.capitalize()\n",
    "    \n",
    "    mes_pelicula = data[data['month_name_es']== mes_capitalizado]\n",
    "    \n",
    "    cantidad = mes_pelicula.shape[0]\n",
    "    \n",
    "    return cantidad\n",
    "\n",
    "\n",
    "entrada = input('Ingrese el mes que desee')\n",
    "\n",
    "print('La cantidad de películas que se han realizado en el mes que ha seleccionado')\n",
    "print(cantidad_filmaciones_mes(entrada))\n",
    "    "
   ]
  },
  {
   "cell_type": "markdown",
   "metadata": {},
   "source": [
    "def cantidad_filmaciones_dia( Dia ): Se ingresa un día en idioma Español. Debe devolver la cantidad de películas que fueron estrenadas en día consultado en la totalidad del dataset.\n",
    "                    Ejemplo de retorno: X cantidad de películas fueron estrenadas en los días X"
   ]
  },
  {
   "cell_type": "code",
   "execution_count": 5,
   "metadata": {},
   "outputs": [
    {
     "data": {
      "text/plain": [
       "release_date\n",
       "2008-01-01    136\n",
       "2009-01-01    121\n",
       "2007-01-01    120\n",
       "2005-01-01    111\n",
       "2006-01-01    101\n",
       "             ... \n",
       "1973-07-22      1\n",
       "1921-04-26      1\n",
       "1995-04-30      1\n",
       "1995-07-18      1\n",
       "2017-07-18      1\n",
       "Name: count, Length: 17333, dtype: int64"
      ]
     },
     "execution_count": 5,
     "metadata": {},
     "output_type": "execute_result"
    }
   ],
   "source": [
    "data['release_date'].value_counts()"
   ]
  },
  {
   "cell_type": "markdown",
   "metadata": {},
   "source": [
    "Tengo una variable de tipo date y lo tengo que transformar a una variable de tipo string para esta función."
   ]
  },
  {
   "cell_type": "code",
   "execution_count": 6,
   "metadata": {},
   "outputs": [],
   "source": [
    "#Con esto extraemos los días de la semana que existen en nuestro dataset\n",
    "data['day_of_week'] = data['release_date'].dt.day_name()"
   ]
  },
  {
   "cell_type": "markdown",
   "metadata": {},
   "source": [
    "Instalamos Unicode ya que es un estándar de codificación de caracteres que permite a los programas de Python trabajar con todos los caracteres posibles, independientemente del idioma, programa o plataforma"
   ]
  },
  {
   "cell_type": "code",
   "execution_count": 7,
   "metadata": {},
   "outputs": [
    {
     "name": "stdout",
     "output_type": "stream",
     "text": [
      "Defaulting to user installation because normal site-packages is not writeable\n",
      "Requirement already satisfied: unidecode in c:\\users\\user\\appdata\\local\\packages\\pythonsoftwarefoundation.python.3.12_qbz5n2kfra8p0\\localcache\\local-packages\\python312\\site-packages (1.3.8)\n",
      "Note: you may need to restart the kernel to use updated packages.\n"
     ]
    },
    {
     "name": "stderr",
     "output_type": "stream",
     "text": [
      "\n",
      "[notice] A new release of pip is available: 24.1.1 -> 24.2\n",
      "[notice] To update, run: C:\\Users\\User\\AppData\\Local\\Microsoft\\WindowsApps\\PythonSoftwareFoundation.Python.3.12_qbz5n2kfra8p0\\python.exe -m pip install --upgrade pip\n"
     ]
    }
   ],
   "source": [
    "pip install unidecode"
   ]
  },
  {
   "cell_type": "code",
   "execution_count": 8,
   "metadata": {},
   "outputs": [],
   "source": [
    "\n",
    "from unidecode import unidecode\n",
    "\n",
    "#Transformamos los días al español mediante un diccionario\n",
    "\n",
    "transformar={'Monday':'Lunes',\n",
    "             'Tuesday':'Martes',\n",
    "             'Wednesday':'Miercoles',\n",
    "            'Thursday':'Jueves',\n",
    "            'Friday':'Viernes',\n",
    "            'Saturday':'Sabado',\n",
    "            'Sunday':'Domingo'\n",
    "}\n",
    "\n",
    "#Aqui aplicamos el diccionario mediante map()\n",
    "data['day_of_week_es'] = data['day_of_week'].map(transformar).apply(lambda x: unidecode(x.lower()))\n"
   ]
  },
  {
   "cell_type": "code",
   "execution_count": 9,
   "metadata": {},
   "outputs": [
    {
     "name": "stdout",
     "output_type": "stream",
     "text": [
      "3509 películas fueron estrenadas en el día lunes\n"
     ]
    }
   ],
   "source": [
    "def cantidad_filmaciones_dia(dia: str):\n",
    "    # Normalizar la entrada del usuario\n",
    "    dia_normalizado = unidecode(dia).lower()\n",
    "    \n",
    "    # Filtrar por el día proporcionado\n",
    "    dia_pelicula = data[data['day_of_week_es'] == dia_normalizado]\n",
    "    cantidad = dia_pelicula.shape[0]\n",
    "    \n",
    "    if cantidad == 0:\n",
    "        return f\"No se encontraron películas estrenadas en el día {dia}\"\n",
    "    \n",
    "    return f\"{cantidad} películas fueron estrenadas en el día {dia}\"\n",
    "\n",
    "# Solicitar entrada del usuario\n",
    "dia_entrada = input(\"Ingrese el día de la semana: \")\n",
    "print(cantidad_filmaciones_dia(dia_entrada))\n"
   ]
  },
  {
   "cell_type": "markdown",
   "metadata": {},
   "source": [
    "def score_titulo( titulo_de_la_filmación ): Se ingresa el título de una filmación esperando como respuesta el título, el año de estreno y el score.\n",
    "                    Ejemplo de retorno: La película X fue estrenada en el año X con un score/popularidad de X"
   ]
  },
  {
   "cell_type": "code",
   "execution_count": 10,
   "metadata": {},
   "outputs": [],
   "source": [
    "#Aplanamos la columna title para que nosotros ingresemos sin ningun problema el titulo\n",
    "\n",
    "data['title_normalized'] = data['title'].apply(lambda x: unidecode(x.lower()))\n",
    "\n",
    "    "
   ]
  },
  {
   "cell_type": "code",
   "execution_count": 11,
   "metadata": {},
   "outputs": [
    {
     "name": "stdout",
     "output_type": "stream",
     "text": [
      "La pelicula Toy Story fue estrenada en el año 1995 y tiene un score/popularidad de 21.946943\n"
     ]
    }
   ],
   "source": [
    "def score_titulo(titulo_de_la_filmacion:str):\n",
    "    \n",
    "    titulo_normalized = unidecode(titulo_de_la_filmacion.lower())\n",
    "    \n",
    "    film = data[data['title_normalized'] == titulo_normalized]\n",
    "    \n",
    "    if film.empty:\n",
    "        return f'No se encontro la pelicula {titulo_normalized}' \n",
    "\n",
    "    titulo = film['title'].values[0]\n",
    "    anio = int(film['release_year'].values[0]) #Convertir a entero por las dudas\n",
    "    score=film['popularity'].values[0]\n",
    "    \n",
    "    return f'La pelicula {titulo} fue estrenada en el año {anio} y tiene un score/popularidad de {score}'\n",
    "\n",
    "entrada = input('Ingrese el titulo de la pelicula')\n",
    "print(score_titulo(entrada))"
   ]
  },
  {
   "cell_type": "markdown",
   "metadata": {},
   "source": [
    "def votos_titulo( titulo_de_la_filmación ): Se ingresa el título de una filmación esperando como respuesta el título, la cantidad de votos y el valor promedio de las votaciones. La misma variable deberá de contar con al menos 2000 valoraciones, caso contrario, debemos contar con un mensaje avisando que no cumple esta condición y que por ende, no se devuelve ningun valor.\n",
    "                    Ejemplo de retorno: La película X fue estrenada en el año X. La misma cuenta con un total de X valoraciones, con un promedio de X"
   ]
  },
  {
   "cell_type": "markdown",
   "metadata": {},
   "source": [
    "Ya no vamos a normalizaro porque es ya lo hicimos anteriormente"
   ]
  },
  {
   "cell_type": "code",
   "execution_count": 12,
   "metadata": {},
   "outputs": [
    {
     "name": "stdout",
     "output_type": "stream",
     "text": [
      "La pelicula Toy Story fue estrenada en el año 1995. La misma ceunta con un total de 5415 valoraciones,con un promedio de 7.7\n"
     ]
    }
   ],
   "source": [
    "def votos_titulo(titulo_de_la_filmacion:str):\n",
    "    titulo_normalized = unidecode(titulo_de_la_filmacion.lower())\n",
    "    \n",
    "    film = data[data['title_normalized'] == titulo_normalized]\n",
    "    \n",
    "    if film.empty:\n",
    "        return f'No se encontro la pelicula {titulo_normalized}' \n",
    "    \n",
    "    titulo = film['title'].values[0]\n",
    "    anio = int(film['release_year'].values[0]) #Convertir a entero por las dudas\n",
    "    vote= int(film['vote_count'].values[0]) #Convertir a entero por las dudas\n",
    "    average=film['vote_average'].values[0]\n",
    "    \n",
    "    if vote < 2000:\n",
    "        return f'La pelicula {titulo} no cumple con el minimo de votos para retornar valor'\n",
    "    \n",
    "    return f'La pelicula {titulo} fue estrenada en el año {anio}. La misma ceunta con un total de {vote} valoraciones,con un promedio de {average}'\n",
    "\n",
    "\n",
    "entrada = input('Ingrese el titulo de la pelicula')\n",
    "print(votos_titulo(entrada))"
   ]
  },
  {
   "cell_type": "markdown",
   "metadata": {},
   "source": [
    "def get_actor( nombre_actor ): Se ingresa el nombre de un actor que se encuentre dentro de un dataset debiendo devolver el éxito del mismo medido a través del retorno. Además, la cantidad de películas que en las que ha participado y el promedio de retorno. La definición no deberá considerar directores.\n",
    "                    Ejemplo de retorno: El actor X ha participado de X cantidad de filmaciones, el mismo ha conseguido un retorno de X con un promedio de X por filmación"
   ]
  },
  {
   "cell_type": "markdown",
   "metadata": {},
   "source": [
    "En el caso de esta función vamos a tener que normalizar la columna de actores. Esto se debe a que varios actores trabajan en una película y si no hacemos este trabajo de desanidación se nos puede complicar el arduo trabajo que estamos llevando a cabo."
   ]
  },
  {
   "cell_type": "markdown",
   "metadata": {},
   "source": [
    "Para este caso vamos a instalar la libreria Regex para trabajar con acentuaciones que nos podemos llegar a encontrar en los nombres y con Numpy para desanidar"
   ]
  },
  {
   "cell_type": "code",
   "execution_count": 13,
   "metadata": {},
   "outputs": [],
   "source": [
    "import re\n",
    "import numpy as np"
   ]
  },
  {
   "cell_type": "code",
   "execution_count": 14,
   "metadata": {},
   "outputs": [],
   "source": [
    "def normalizar(cast_data):\n",
    "    if isinstance(cast_data,np.ndarray):\n",
    "        names = [str(names).strip() for names in cast_data] # Va a recorrer nuestra lista y a cortar los espacios\n",
    "    elif isinstance(cast_data,str):\n",
    "        if ',' in cast_data:\n",
    "            names = cast_data.strip('[]').split(',') \n",
    "            names = [name.strip().strip(\"'\\\"\") for name in names] \n",
    "        # Lo que hacemos primero es dividir por comas. Luego eliminamos los corchetes por comas \n",
    "        # y finalmente eliminamos los espacios y comillas    \n",
    "        else:\n",
    "            names = re.findall(r\"'([^']*)'\", cast_data)    \n",
    "            #De no haber comas, se realiza este metodo.\n",
    "    else:\n",
    "        return []  \n",
    "    \n",
    "    \n",
    "    return [unidecode(name.lower()) for name in names if name]    \n",
    "\n",
    "data['cast_names_normalized'] = data['cast_names'].apply(normalizar)"
   ]
  },
  {
   "cell_type": "code",
   "execution_count": 15,
   "metadata": {},
   "outputs": [
    {
     "name": "stdout",
     "output_type": "stream",
     "text": [
      "El actor tim allen ha participado de 29 cantidad de filmaciones, el mismo ha conseguido un retorno de 50.20 con un promedio de 1.73 por filmacion\n"
     ]
    }
   ],
   "source": [
    "def get_actor(nombre_actor:str):\n",
    "    nombre_actor_normalized = unidecode(nombre_actor.lower())\n",
    "    \n",
    "    film = data[data['cast_names_normalized'].apply(lambda actors: nombre_actor_normalized in actors)]\n",
    "    \n",
    "    if film.empty:\n",
    "        return f'No se encontró información para {nombre_actor_normalized}' \n",
    "    \n",
    "    cantidad = film.shape[0]\n",
    "    retorno =  film['return'].sum()\n",
    "    average=retorno/cantidad\n",
    "    \n",
    "\n",
    "    return f'El actor {nombre_actor} ha participado de {cantidad} cantidad de filmaciones, el mismo ha conseguido un retorno de {retorno:.2f} con un promedio de {average:.2f} por filmacion'\n",
    "\n",
    "\n",
    "entrada = input('Ingrese el titulo de la pelicula')\n",
    "print(get_actor(entrada))    "
   ]
  },
  {
   "cell_type": "markdown",
   "metadata": {},
   "source": [
    "def get_director( nombre_director ): Se ingresa el nombre de un director que se encuentre dentro de un dataset debiendo devolver el éxito del mismo medido a través del retorno. Además, deberá devolver el nombre de cada película con la fecha de lanzamiento, retorno individual, costo y ganancia de la misma."
   ]
  },
  {
   "cell_type": "markdown",
   "metadata": {},
   "source": [
    "normalize_list(lst): Esta función verifica si lst no es None. Si no lo es, itera sobre la lista y normaliza cada elemento. Si lst es None, devuelve una lista vacía.\n",
    "data['crew_name_normalized'] y data['crew_jobs_normalized']: Usan la función normalize_list para aplicar la normalización a cada fila en las columnas crew_names y crew_jobs."
   ]
  },
  {
   "cell_type": "code",
   "execution_count": 16,
   "metadata": {},
   "outputs": [
    {
     "name": "stdout",
     "output_type": "stream",
     "text": [
      "                                crew_name_normalized  \\\n",
      "0  [john lasseter, joss whedon, andrew stanton, j...   \n",
      "1  [larry j. franco, jonathan hensleigh, james ho...   \n",
      "2  [howard deutch, mark steven johnson, mark stev...   \n",
      "3  [forest whitaker, ronald bass, ronald bass, ez...   \n",
      "4  [alan silvestri, elliot davis, nancy meyers, n...   \n",
      "\n",
      "                                crew_jobs_normalized  \n",
      "0  [director, screenplay, screenplay, screenplay,...  \n",
      "1  [executive producer, screenplay, original musi...  \n",
      "2    [director, characters, writer, sound recordist]  \n",
      "3  [director, screenplay, producer, producer, pro...  \n",
      "4  [original music composer, director of photogra...  \n"
     ]
    }
   ],
   "source": [
    "import pandas as pd\n",
    "from unidecode import unidecode\n",
    "\n",
    "\n",
    "# Función para normalizar listas\n",
    "def normalize_list(lst):\n",
    "    if lst is not None:\n",
    "        return [unidecode(name.lower()) for name in lst if isinstance(name, str)]\n",
    "    return []\n",
    "\n",
    "# Normalizar cada nombre y rol en las listas dentro de las columnas\n",
    "data['crew_name_normalized'] = data['crew_names'].apply(normalize_list)\n",
    "data['crew_jobs_normalized'] = data['crew_jobs'].apply(normalize_list)\n",
    "\n",
    "print(data[['crew_name_normalized', 'crew_jobs_normalized']].head())\n"
   ]
  },
  {
   "cell_type": "code",
   "execution_count": 17,
   "metadata": {},
   "outputs": [
    {
     "name": "stdout",
     "output_type": "stream",
     "text": [
      "Director guillermo del toro\n",
      "Película: Cronos, Fecha de lanzamiento: 1993-09-12, Retorno individual: 0, Costo: 0, Ganancia: 0\n",
      "Película: Mimic, Fecha de lanzamiento: 1997-08-22, Retorno individual: 25480490, Costo: 30000000, Ganancia: -4519510\n",
      "Película: Amores perros, Fecha de lanzamiento: 2000-06-16, Retorno individual: 20908467, Costo: 2000000, Ganancia: 18908467\n",
      "Película: The Devil's Backbone, Fecha de lanzamiento: 2001-04-20, Retorno individual: 6459020, Costo: 4500000, Ganancia: 1959020\n",
      "Película: Blade II, Fecha de lanzamiento: 2002-03-22, Retorno individual: 155010032, Costo: 54000000, Ganancia: 101010032\n",
      "Película: Hellboy, Fecha de lanzamiento: 2004-04-02, Retorno individual: 99318987, Costo: 66000000, Ganancia: 33318987\n",
      "Película: Chronicles, Fecha de lanzamiento: 2004-05-16, Retorno individual: 299261, Costo: 0, Ganancia: 299261\n",
      "Película: Pan's Labyrinth, Fecha de lanzamiento: 2006-05-27, Retorno individual: 83258226, Costo: 19000000, Ganancia: 64258226\n",
      "Película: The Orphanage, Fecha de lanzamiento: 2007-08-27, Retorno individual: 44000000, Costo: 0, Ganancia: 44000000\n",
      "Película: Hellboy II: The Golden Army, Fecha de lanzamiento: 2008-07-11, Retorno individual: 160388063, Costo: 85000000, Ganancia: 75388063\n",
      "Película: While She Was Out, Fecha de lanzamiento: 2008-10-27, Retorno individual: 391410, Costo: 6000000, Ganancia: -5608590\n",
      "Película: District 9, Fecha de lanzamiento: 2009-08-05, Retorno individual: 210819611, Costo: 30000000, Ganancia: 180819611\n",
      "Película: Rudo & Cursi, Fecha de lanzamiento: 2008-12-19, Retorno individual: 0, Costo: 0, Ganancia: 0\n",
      "Película: Splice, Fecha de lanzamiento: 2009-10-06, Retorno individual: 0, Costo: 26000000, Ganancia: -26000000\n",
      "Película: Biutiful, Fecha de lanzamiento: 2010-10-20, Retorno individual: 25147786, Costo: 0, Ganancia: 25147786\n",
      "Película: Don't Be Afraid of the Dark, Fecha de lanzamiento: 2010-11-06, Retorno individual: 36993168, Costo: 25000000, Ganancia: 11993168\n",
      "Película: Julia's Eyes, Fecha de lanzamiento: 2010-10-29, Retorno individual: 12884923, Costo: 0, Ganancia: 12884923\n",
      "Película: Rage, Fecha de lanzamiento: 2009-08-12, Retorno individual: 0, Costo: 0, Ganancia: 0\n",
      "Película: The Hobbit: An Unexpected Journey, Fecha de lanzamiento: 2012-11-26, Retorno individual: 1021103568, Costo: 250000000, Ganancia: 771103568\n",
      "Película: Mama, Fecha de lanzamiento: 2013-01-17, Retorno individual: 146497771, Costo: 15000000, Ganancia: 131497771\n",
      "Película: Pacific Rim, Fecha de lanzamiento: 2013-07-11, Retorno individual: 407602906, Costo: 180000000, Ganancia: 227602906\n",
      "Película: The Hobbit: The Desolation of Smaug, Fecha de lanzamiento: 2013-12-11, Retorno individual: 958400000, Costo: 250000000, Ganancia: 708400000\n",
      "Película: How to Train Your Dragon 2, Fecha de lanzamiento: 2014-06-12, Retorno individual: 609123048, Costo: 145000000, Ganancia: 464123048\n",
      "Película: The Book of Life, Fecha de lanzamiento: 2014-10-01, Retorno individual: 97437106, Costo: 50000000, Ganancia: 47437106\n",
      "Película: The Hobbit: The Battle of the Five Armies, Fecha de lanzamiento: 2014-12-10, Retorno individual: 956019788, Costo: 250000000, Ganancia: 706019788\n",
      "Película: Crimson Peak, Fecha de lanzamiento: 2015-10-13, Retorno individual: 74679822, Costo: 55000000, Ganancia: 19679822\n",
      "Película: Hellboy Animated: Blood and Iron, Fecha de lanzamiento: 2007-03-10, Retorno individual: 0, Costo: 0, Ganancia: 0\n",
      "Película: The Thin Yellow Line, Fecha de lanzamiento: 2015-03-06, Retorno individual: 0, Costo: 0, Ganancia: 0\n",
      "Película: Kung Fu Panda 3, Fecha de lanzamiento: 2016-01-23, Retorno individual: 521170825, Costo: 145000000, Ganancia: 376170825\n",
      "Película: Cosas insignificantes, Fecha de lanzamiento: 2008-09-23, Retorno individual: 0, Costo: 0, Ganancia: 0\n"
     ]
    },
    {
     "name": "stderr",
     "output_type": "stream",
     "text": [
      "C:\\Users\\User\\AppData\\Local\\Temp\\ipykernel_11352\\433619112.py:20: SettingWithCopyWarning: \n",
      "A value is trying to be set on a copy of a slice from a DataFrame.\n",
      "Try using .loc[row_indexer,col_indexer] = value instead\n",
      "\n",
      "See the caveats in the documentation: https://pandas.pydata.org/pandas-docs/stable/user_guide/indexing.html#returning-a-view-versus-a-copy\n",
      "  director_pelicula['profit'] = director_pelicula['revenue'] - director_pelicula['budget']\n",
      "C:\\Users\\User\\AppData\\Local\\Temp\\ipykernel_11352\\433619112.py:23: SettingWithCopyWarning: \n",
      "A value is trying to be set on a copy of a slice from a DataFrame.\n",
      "Try using .loc[row_indexer,col_indexer] = value instead\n",
      "\n",
      "See the caveats in the documentation: https://pandas.pydata.org/pandas-docs/stable/user_guide/indexing.html#returning-a-view-versus-a-copy\n",
      "  director_pelicula['release_date'] = director_pelicula['release_date'].dt.strftime('%Y-%m-%d')\n"
     ]
    }
   ],
   "source": [
    "def get_director(nombre_director:str):\n",
    "    nombre_director_normalized = unidecode(nombre_director.lower())\n",
    "    \n",
    "    film = data[data['crew_name_normalized'].apply(lambda director: nombre_director_normalized in director)]\n",
    "\n",
    "    #Filtramos si existe o no. También si ocupa el rol de director o no    \n",
    "    if film.empty:\n",
    "        director_no = data[data['crew_name_normalized'] == nombre_director_normalized]\n",
    "        if director_no.empty:\n",
    "            if director_no.empty:\n",
    "                job = director_no['crew_jobs'].values[0] if director_no['crew_jobs'].notna().any() else 'desconocido'\n",
    "                return f\"No es director, el {nombre_director} es {job}.\"\n",
    "        else:\n",
    "            return f\"No se encontró información para {nombre_director}\"\n",
    "    \n",
    "\n",
    "\n",
    "\n",
    "    director_pelicula = film[['title','release_date','revenue','budget']]\n",
    "    director_pelicula['profit'] = director_pelicula['revenue'] - director_pelicula['budget']\n",
    "    \n",
    "    #Parseo de datos. Esto más que nada es para que se puede devolver un texto\n",
    "    director_pelicula['release_date'] = director_pelicula['release_date'].dt.strftime('%Y-%m-%d') \n",
    "    # Creamos una lista para almacenar los detalles de cada película     \n",
    "    info_peliculas = []        \n",
    "            \n",
    "    for _, row in director_pelicula.iterrows():\n",
    "        info = (f\"Película: {row['title']}, Fecha de lanzamiento: {row['release_date']}, \"\n",
    "                f\"Retorno individual: {row['revenue']:.0f}, Costo: {row['budget']:.0f}, \"\n",
    "                f\"Ganancia: {row['profit']:.0f}\")  \n",
    "        info_peliculas.append(info)\n",
    "        \n",
    "    \n",
    "    lista =\"\\n\".join(info_peliculas)\n",
    "    return f'Director {nombre_director}\\n{lista}'       \n",
    "            \n",
    "            \n",
    "   \n",
    "entrada=input('Ingrese el nombre del director')\n",
    "print(get_director(entrada))         \n",
    "            "
   ]
  }
 ],
 "metadata": {
  "kernelspec": {
   "display_name": "Python 3",
   "language": "python",
   "name": "python3"
  },
  "language_info": {
   "codemirror_mode": {
    "name": "ipython",
    "version": 3
   },
   "file_extension": ".py",
   "mimetype": "text/x-python",
   "name": "python",
   "nbconvert_exporter": "python",
   "pygments_lexer": "ipython3",
   "version": "3.12.6"
  }
 },
 "nbformat": 4,
 "nbformat_minor": 2
}
